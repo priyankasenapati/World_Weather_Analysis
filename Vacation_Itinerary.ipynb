{
 "cells": [
  {
   "cell_type": "code",
   "execution_count": 37,
   "metadata": {},
   "outputs": [],
   "source": [
    "#Part 3\n",
    "# Create a Travel Itinerary with a Corresponding Map"
   ]
  },
  {
   "cell_type": "code",
   "execution_count": 38,
   "metadata": {},
   "outputs": [],
   "source": [
    "# Import the dependencies.\n",
    "import pandas as pd\n",
    "import gmaps\n",
    "import requests\n",
    "%matplotlib inline\n",
    "# Import the API key.\n",
    "from config import g_key"
   ]
  },
  {
   "cell_type": "code",
   "execution_count": 39,
   "metadata": {},
   "outputs": [
    {
     "data": {
      "text/html": [
       "<div>\n",
       "<style scoped>\n",
       "    .dataframe tbody tr th:only-of-type {\n",
       "        vertical-align: middle;\n",
       "    }\n",
       "\n",
       "    .dataframe tbody tr th {\n",
       "        vertical-align: top;\n",
       "    }\n",
       "\n",
       "    .dataframe thead th {\n",
       "        text-align: right;\n",
       "    }\n",
       "</style>\n",
       "<table border=\"1\" class=\"dataframe\">\n",
       "  <thead>\n",
       "    <tr style=\"text-align: right;\">\n",
       "      <th></th>\n",
       "      <th>City_ID</th>\n",
       "      <th>City</th>\n",
       "      <th>Country</th>\n",
       "      <th>Max Temp</th>\n",
       "      <th>Weather Description</th>\n",
       "      <th>Lat</th>\n",
       "      <th>Lng</th>\n",
       "      <th>Hotel Name</th>\n",
       "    </tr>\n",
       "  </thead>\n",
       "  <tbody>\n",
       "    <tr>\n",
       "      <th>0</th>\n",
       "      <td>20</td>\n",
       "      <td>Rikitea</td>\n",
       "      <td>PF</td>\n",
       "      <td>80.19</td>\n",
       "      <td>light rain</td>\n",
       "      <td>-23.12</td>\n",
       "      <td>-134.97</td>\n",
       "      <td>Pension Maro'i</td>\n",
       "    </tr>\n",
       "    <tr>\n",
       "      <th>1</th>\n",
       "      <td>76</td>\n",
       "      <td>Riachao</td>\n",
       "      <td>BR</td>\n",
       "      <td>89.13</td>\n",
       "      <td>light rain</td>\n",
       "      <td>-7.36</td>\n",
       "      <td>-46.62</td>\n",
       "      <td>Hotel Universal</td>\n",
       "    </tr>\n",
       "    <tr>\n",
       "      <th>2</th>\n",
       "      <td>81</td>\n",
       "      <td>Kavieng</td>\n",
       "      <td>PG</td>\n",
       "      <td>83.70</td>\n",
       "      <td>moderate rain</td>\n",
       "      <td>-2.57</td>\n",
       "      <td>150.80</td>\n",
       "      <td>Nusa Island Retreat</td>\n",
       "    </tr>\n",
       "    <tr>\n",
       "      <th>3</th>\n",
       "      <td>89</td>\n",
       "      <td>Castro</td>\n",
       "      <td>BR</td>\n",
       "      <td>71.35</td>\n",
       "      <td>light rain</td>\n",
       "      <td>-24.79</td>\n",
       "      <td>-50.01</td>\n",
       "      <td>CHACARA BAILLY</td>\n",
       "    </tr>\n",
       "  </tbody>\n",
       "</table>\n",
       "</div>"
      ],
      "text/plain": [
       "   City_ID     City Country  Max Temp Weather Description    Lat     Lng  \\\n",
       "0       20  Rikitea      PF     80.19          light rain -23.12 -134.97   \n",
       "1       76  Riachao      BR     89.13          light rain  -7.36  -46.62   \n",
       "2       81  Kavieng      PG     83.70       moderate rain  -2.57  150.80   \n",
       "3       89   Castro      BR     71.35          light rain -24.79  -50.01   \n",
       "\n",
       "            Hotel Name  \n",
       "0       Pension Maro'i  \n",
       "1      Hotel Universal  \n",
       "2  Nusa Island Retreat  \n",
       "3       CHACARA BAILLY  "
      ]
     },
     "execution_count": 39,
     "metadata": {},
     "output_type": "execute_result"
    }
   ],
   "source": [
    "# 2. Read and load the hotels database (WeatherPy_vacation.csv) from Part 2\n",
    "hotel_df = pd.read_csv(\"weather_data/WeatherPy_vacation.csv\")\n",
    "hotel_df.head(4)"
   ]
  },
  {
   "cell_type": "code",
   "execution_count": 40,
   "metadata": {},
   "outputs": [],
   "source": [
    "# Configure gmaps to use your Google API key.\n",
    "gmaps.configure(api_key=g_key)"
   ]
  },
  {
   "cell_type": "code",
   "execution_count": 41,
   "metadata": {},
   "outputs": [
    {
     "data": {
      "text/plain": [
       "((-20.33, -40.29), (-22.97, -42.03), (-20.67, -40.5), (-21.64, -41.05))"
      ]
     },
     "execution_count": 41,
     "metadata": {},
     "output_type": "execute_result"
    }
   ],
   "source": [
    "# 3.a Filter the DataFrame \n",
    "#for each city you want to go to and create separate DataFrames for each city.\n",
    "#Cities\n",
    "# Arraial Do Cabo\n",
    "#Guarapari\n",
    "#Vila Velha \n",
    "# Sao Joao Da Barra\n",
    "Vila_Velha_df = hotel_df.loc[hotel_df['City'] == 'Vila Velha']\n",
    "Arraial_Do_Cabo_df = hotel_df.loc[hotel_df['City'] == 'Arraial Do Cabo']\n",
    "Guarapari_df = hotel_df.loc[hotel_df['City'] == 'Guarapari']\n",
    "Sao_Joao_Da_Barra_df = hotel_df.loc[hotel_df['City'] == 'Sao Joao Da Barra']\n",
    "\n",
    "#3.b Use the list indexing and Pandas methods\n",
    "#to get the latitude-longitude pairs for each city DataFrame as tuples.\n",
    "\n",
    "Vila_Velha = (float(Vila_Velha_df['Lat']), float(Vila_Velha_df['Lng']))\n",
    "Arraial_Do_Cabo = (float(Arraial_Do_Cabo_df['Lat']), float(Arraial_Do_Cabo_df['Lng']))\n",
    "Guarapari = (float(Guarapari_df['Lat']), float(Guarapari_df['Lng']))\n",
    "Sao_Joao_Da_Barra = (float(Sao_Joao_Da_Barra_df['Lat']), float(Sao_Joao_Da_Barra_df['Lng']))\n",
    "\n",
    "# call all the cities\n",
    "Vila_Velha ,Arraial_Do_Cabo ,Guarapari , Sao_Joao_Da_Barra"
   ]
  },
  {
   "cell_type": "code",
   "execution_count": 42,
   "metadata": {},
   "outputs": [],
   "source": [
    "info_box_template = \"\"\"\n",
    "<dl>\n",
    "<dt>Hotel Name</dt><dd>{Hotel Name}</dd>\n",
    "<dt>City</dt><dd>{City}</dd>\n",
    "<dt>Country</dt><dd>{Country}</dd>\n",
    "<dt></dt><dd>{Max Temp} °F</dd>\n",
    "<dt>Weather</dt><dd>{Weather Description} and {Max Temp} °F</dd>\n",
    "</dl>\n",
    "\"\"\""
   ]
  },
  {
   "cell_type": "code",
   "execution_count": 43,
   "metadata": {},
   "outputs": [],
   "source": [
    "# Store the DataFrame Row.\n",
    "hotel_info = [info_box_template.format(**row) for index, row in hotel_df.iterrows()]"
   ]
  },
  {
   "cell_type": "code",
   "execution_count": 55,
   "metadata": {},
   "outputs": [
    {
     "data": {
      "application/vnd.jupyter.widget-view+json": {
       "model_id": "330f200adbaa438e903bd596e124cf3f",
       "version_major": 2,
       "version_minor": 0
      },
      "text/plain": [
       "Figure(layout=FigureLayout(height='420px'))"
      ]
     },
     "metadata": {},
     "output_type": "display_data"
    }
   ],
   "source": [
    "# Add a marker for each city\n",
    "locations = hotel_df[[\"Lat\", \"Lng\"]]\n",
    "max_temp = hotel_df[\"Max Temp\"]\n",
    "fig = gmaps.figure(center=Guarapari, zoom_level=1.5)\n",
    "marker_layer = gmaps.marker_layer(locations, info_box_content=hotel_info)\n",
    "Vila_Velha2Arraial_Do_Cabo= gmaps.directions_layer(Vila_Velha, Arraial_Do_Cabo , waypoints=[Guarapari,Sao_Joao_Da_Barra], travel_mode ='BICYCLING')\n",
    "fig.add_layer(marker_layer)\n",
    "fig.add_layer(Vila_Velha2Arraial_Do_Cabo)\n",
    "# Call the figure to plot the data.\n",
    "fig"
   ]
  },
  {
   "cell_type": "code",
   "execution_count": 56,
   "metadata": {},
   "outputs": [
    {
     "data": {
      "text/html": [
       "<div>\n",
       "<style scoped>\n",
       "    .dataframe tbody tr th:only-of-type {\n",
       "        vertical-align: middle;\n",
       "    }\n",
       "\n",
       "    .dataframe tbody tr th {\n",
       "        vertical-align: top;\n",
       "    }\n",
       "\n",
       "    .dataframe thead th {\n",
       "        text-align: right;\n",
       "    }\n",
       "</style>\n",
       "<table border=\"1\" class=\"dataframe\">\n",
       "  <thead>\n",
       "    <tr style=\"text-align: right;\">\n",
       "      <th></th>\n",
       "      <th>City_ID</th>\n",
       "      <th>City</th>\n",
       "      <th>Country</th>\n",
       "      <th>Max Temp</th>\n",
       "      <th>Weather Description</th>\n",
       "      <th>Lat</th>\n",
       "      <th>Lng</th>\n",
       "      <th>Hotel Name</th>\n",
       "    </tr>\n",
       "  </thead>\n",
       "  <tbody>\n",
       "    <tr>\n",
       "      <th>220</th>\n",
       "      <td>564</td>\n",
       "      <td>Vila Velha</td>\n",
       "      <td>BR</td>\n",
       "      <td>87.8</td>\n",
       "      <td>few clouds</td>\n",
       "      <td>-20.33</td>\n",
       "      <td>-40.29</td>\n",
       "      <td>Hotel Vitória Palace</td>\n",
       "    </tr>\n",
       "    <tr>\n",
       "      <th>51</th>\n",
       "      <td>10</td>\n",
       "      <td>Arraial Do Cabo</td>\n",
       "      <td>BR</td>\n",
       "      <td>75.2</td>\n",
       "      <td>scattered clouds</td>\n",
       "      <td>-22.97</td>\n",
       "      <td>-42.03</td>\n",
       "      <td>Pousada Porto Praia</td>\n",
       "    </tr>\n",
       "    <tr>\n",
       "      <th>178</th>\n",
       "      <td>439</td>\n",
       "      <td>Guarapari</td>\n",
       "      <td>BR</td>\n",
       "      <td>87.8</td>\n",
       "      <td>few clouds</td>\n",
       "      <td>-20.67</td>\n",
       "      <td>-40.50</td>\n",
       "      <td>Hotel Porto do Sol</td>\n",
       "    </tr>\n",
       "    <tr>\n",
       "      <th>173</th>\n",
       "      <td>426</td>\n",
       "      <td>Sao Joao Da Barra</td>\n",
       "      <td>BR</td>\n",
       "      <td>78.8</td>\n",
       "      <td>light rain</td>\n",
       "      <td>-21.64</td>\n",
       "      <td>-41.05</td>\n",
       "      <td>Pousada Porto De Canoas</td>\n",
       "    </tr>\n",
       "  </tbody>\n",
       "</table>\n",
       "</div>"
      ],
      "text/plain": [
       "     City_ID               City Country  Max Temp Weather Description    Lat  \\\n",
       "220      564         Vila Velha      BR      87.8          few clouds -20.33   \n",
       "51        10    Arraial Do Cabo      BR      75.2    scattered clouds -22.97   \n",
       "178      439          Guarapari      BR      87.8          few clouds -20.67   \n",
       "173      426  Sao Joao Da Barra      BR      78.8          light rain -21.64   \n",
       "\n",
       "       Lng               Hotel Name  \n",
       "220 -40.29     Hotel Vitória Palace  \n",
       "51  -42.03      Pousada Porto Praia  \n",
       "178 -40.50       Hotel Porto do Sol  \n",
       "173 -41.05  Pousada Porto De Canoas  "
      ]
     },
     "execution_count": 56,
     "metadata": {},
     "output_type": "execute_result"
    }
   ],
   "source": [
    "# 6. Create a marker layer map for the four cities.\n",
    "cities_list = [Vila_Velha_df, Arraial_Do_Cabo_df, Guarapari_df, Sao_Joao_Da_Barra_df]\n",
    "cities_df = pd.concat(cities_list)\n",
    "cities_df"
   ]
  },
  {
   "cell_type": "code",
   "execution_count": 57,
   "metadata": {},
   "outputs": [],
   "source": [
    "info_box_template = \"\"\"\n",
    "<dl>\n",
    "<dt>Hotel Name</dt><dd>{Hotel Name}</dd>\n",
    "<dt>City</dt><dd>{City}</dd>\n",
    "<dt>Country</dt><dd>{Country}</dd>\n",
    "<dt></dt><dd>{Max Temp} °F</dd>\n",
    "<dt>Weather</dt><dd>{Weather Description} and {Max Temp} °F</dd>\n",
    "</dl>\n",
    "\"\"\""
   ]
  },
  {
   "cell_type": "code",
   "execution_count": 60,
   "metadata": {},
   "outputs": [],
   "source": [
    "# Store the DataFrame Row.\n",
    "cities_info = [info_box_template.format(**row) for index, row in cities_df.iterrows()]"
   ]
  },
  {
   "cell_type": "code",
   "execution_count": 67,
   "metadata": {},
   "outputs": [
    {
     "data": {
      "application/vnd.jupyter.widget-view+json": {
       "model_id": "07f7b7a16c96491eaffdf3ac743bb8f4",
       "version_major": 2,
       "version_minor": 0
      },
      "text/plain": [
       "Figure(layout=FigureLayout(height='420px'))"
      ]
     },
     "metadata": {},
     "output_type": "display_data"
    }
   ],
   "source": [
    "# Add markers for four city.\n",
    "locations = cities_df[[\"Lat\", \"Lng\"]]\n",
    "max_temp = cities_df[\"Max Temp\"]\n",
    "fig = gmaps.figure(center=Guarapari, zoom_level=6)\n",
    "marker_layer = gmaps.marker_layer(locations, info_box_content=cities_info)\n",
    "fig.add_layer(marker_layer)\n",
    "# Call the figure to plot the data.\n",
    "fig"
   ]
  },
  {
   "cell_type": "code",
   "execution_count": null,
   "metadata": {},
   "outputs": [],
   "source": []
  }
 ],
 "metadata": {
  "kernelspec": {
   "display_name": "PythonData",
   "language": "python",
   "name": "pythondata"
  },
  "language_info": {
   "codemirror_mode": {
    "name": "ipython",
    "version": 3
   },
   "file_extension": ".py",
   "mimetype": "text/x-python",
   "name": "python",
   "nbconvert_exporter": "python",
   "pygments_lexer": "ipython3",
   "version": "3.7.6"
  }
 },
 "nbformat": 4,
 "nbformat_minor": 4
}
